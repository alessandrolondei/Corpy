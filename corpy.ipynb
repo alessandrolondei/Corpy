{
 "cells": [
  {
   "cell_type": "code",
   "execution_count": 1,
   "metadata": {},
   "outputs": [],
   "source": [
    "from corpy import Corpy, load_corpy\n",
    "import glob"
   ]
  },
  {
   "cell_type": "markdown",
   "metadata": {},
   "source": [
    "### Create a list of textual documents"
   ]
  },
  {
   "cell_type": "code",
   "execution_count": 2,
   "metadata": {},
   "outputs": [],
   "source": [
    "books_path = './texts/'"
   ]
  },
  {
   "cell_type": "code",
   "execution_count": 3,
   "metadata": {},
   "outputs": [],
   "source": [
    "book_files = glob.glob(books_path + '*.txt')"
   ]
  },
  {
   "cell_type": "code",
   "execution_count": 4,
   "metadata": {},
   "outputs": [
    {
     "data": {
      "text/plain": [
       "['./texts/sleep.txt', './texts/the_open_boat.txt']"
      ]
     },
     "execution_count": 4,
     "metadata": {},
     "output_type": "execute_result"
    }
   ],
   "source": [
    "book_files"
   ]
  },
  {
   "cell_type": "code",
   "execution_count": 5,
   "metadata": {},
   "outputs": [],
   "source": [
    "books = []\n",
    "for bf in book_files:\n",
    "    with open(bf, 'r') as f:\n",
    "        books.append(f.read())"
   ]
  },
  {
   "cell_type": "code",
   "execution_count": null,
   "metadata": {},
   "outputs": [],
   "source": []
  },
  {
   "cell_type": "markdown",
   "metadata": {},
   "source": [
    "### Simple Corpy object"
   ]
  },
  {
   "cell_type": "markdown",
   "metadata": {},
   "source": [
    "In this case, we use all the default parameters:\n",
    "- mode: 'word'\n",
    "- lower: True\n",
    "- one_document: False\n",
    "- threshold: None (all of the items will be retained)\n",
    "- threshold_section: 'first' (no effect, since threshold=None)\n",
    "- text_sections: (1,) (only one main section)\n",
    "- text_sections_level: 'item' (division of sections based on items. No effect since there is only one section)\n",
    "- init_books_seq: 'normal' (documents are taken in the same order as they appear in the input list)\n",
    "- punct: \"'.,!?«»:;()[]-\\\"\""
   ]
  },
  {
   "cell_type": "code",
   "execution_count": 6,
   "metadata": {},
   "outputs": [],
   "source": [
    "c = Corpy(books)"
   ]
  },
  {
   "cell_type": "markdown",
   "metadata": {},
   "source": [
    "---"
   ]
  },
  {
   "cell_type": "markdown",
   "metadata": {},
   "source": [
    "Getting a chunk sequentially (output: code)"
   ]
  },
  {
   "cell_type": "code",
   "execution_count": 7,
   "metadata": {},
   "outputs": [
    {
     "name": "stdout",
     "output_type": "stream",
     "text": [
      "[31, 32, 13, 1014, 341, 135, 174, 57, 0, 3, 8, 95, 37, 621, 66, 408, 0, 3, 190, 38, 408, 32, 0, 3, 17, 109, 39, 9, 12, 516, 16]\n"
     ]
    }
   ],
   "source": [
    "print(c.get_chunk(chunk_mode='sequential'))"
   ]
  },
  {
   "cell_type": "markdown",
   "metadata": {},
   "source": [
    "---"
   ]
  },
  {
   "cell_type": "markdown",
   "metadata": {},
   "source": [
    "Getting a chunk sequentially (output: items)"
   ]
  },
  {
   "cell_type": "code",
   "execution_count": 8,
   "metadata": {},
   "outputs": [
    {
     "name": "stdout",
     "output_type": "stream",
     "text": [
      "['this', 'is', 'my', 'seventeenth', 'straight', 'day', 'without', 'sleep', '.', 'i', \"'\", 'm', 'not', 'talking', 'about', 'insomnia', '.', 'i', 'know', 'what', 'insomnia', 'is', '.', 'i', 'had', 'something', 'like', 'it', 'in', 'college', '-']\n"
     ]
    }
   ],
   "source": [
    "c.reset_counter()\n",
    "print(c.get_chunk(chunk_mode='sequential', output_mode='item'))"
   ]
  },
  {
   "cell_type": "markdown",
   "metadata": {},
   "source": [
    "---"
   ]
  },
  {
   "cell_type": "markdown",
   "metadata": {},
   "source": [
    "Getting a chunk sequentially (output: string)"
   ]
  },
  {
   "cell_type": "code",
   "execution_count": 9,
   "metadata": {},
   "outputs": [
    {
     "name": "stdout",
     "output_type": "stream",
     "text": [
      "this is my seventeenth straight day without sleep . i ' m not talking about insomnia . i know what insomnia is . i had something like it in college -\n"
     ]
    }
   ],
   "source": [
    "c.reset_counter()\n",
    "print(c.get_chunk(chunk_mode='sequential', output_mode='string'))"
   ]
  },
  {
   "cell_type": "markdown",
   "metadata": {},
   "source": [
    "---"
   ]
  },
  {
   "cell_type": "markdown",
   "metadata": {},
   "source": [
    "Getting a chunk in normal mode (output: string)"
   ]
  },
  {
   "cell_type": "code",
   "execution_count": 10,
   "metadata": {},
   "outputs": [
    {
     "name": "stdout",
     "output_type": "stream",
     "text": [
      "this is my seventeenth straight day without sleep . i ' m not talking about insomnia . i know what insomnia is . i had something like it in college -\n"
     ]
    }
   ],
   "source": [
    "print(c.get_chunk(chunk_mode='normal', book_sel=0, chunk_sel=0, output_mode='string'))"
   ]
  },
  {
   "cell_type": "markdown",
   "metadata": {},
   "source": [
    "---"
   ]
  },
  {
   "cell_type": "markdown",
   "metadata": {},
   "source": [
    "Getting a chunk in normal mode, 2nd document and chunk starting at item 100 (output: string)"
   ]
  },
  {
   "cell_type": "code",
   "execution_count": 11,
   "metadata": {},
   "outputs": [
    {
     "name": "stdout",
     "output_type": "stream",
     "text": [
      "the boat which here rode upon the sea . these waves were most wrongfully and barbarously abrupt and tall , and each froth - top was a problem in small boat\n"
     ]
    }
   ],
   "source": [
    "print(c.get_chunk(chunk_mode='normal', book_sel=1, chunk_sel=100, output_mode='string'))"
   ]
  },
  {
   "cell_type": "markdown",
   "metadata": {},
   "source": [
    "---"
   ]
  },
  {
   "cell_type": "markdown",
   "metadata": {},
   "source": [
    "The number of items is 30+1 because the 'last_element' option is True (default)"
   ]
  },
  {
   "cell_type": "code",
   "execution_count": 12,
   "metadata": {},
   "outputs": [
    {
     "name": "stdout",
     "output_type": "stream",
     "text": [
      "31\n"
     ]
    }
   ],
   "source": [
    "print(len(c.get_chunk(chunk_mode='normal', book_sel=1, chunk_sel=100, output_mode='item')))"
   ]
  },
  {
   "cell_type": "markdown",
   "metadata": {},
   "source": [
    "---"
   ]
  },
  {
   "cell_type": "markdown",
   "metadata": {},
   "source": [
    "Getting a chunk in random mode, first (and only) section (output: string)"
   ]
  },
  {
   "cell_type": "code",
   "execution_count": 13,
   "metadata": {},
   "outputs": [
    {
     "name": "stdout",
     "output_type": "stream",
     "text": [
      "amazing . but it helped with what quickly became my nightly routine . after ten minutes of lying near him , i would get out of bed . i would go\n"
     ]
    }
   ],
   "source": [
    "print(c.get_chunk(chunk_mode='random', output_mode='string'))"
   ]
  },
  {
   "cell_type": "code",
   "execution_count": null,
   "metadata": {},
   "outputs": [],
   "source": []
  },
  {
   "cell_type": "markdown",
   "metadata": {},
   "source": [
    "### Corpy object with 3 sections (item level)"
   ]
  },
  {
   "cell_type": "code",
   "execution_count": 14,
   "metadata": {},
   "outputs": [],
   "source": [
    "c = Corpy(books, text_sections=[60,30,10]) #text_sections_level='item' by default"
   ]
  },
  {
   "cell_type": "markdown",
   "metadata": {},
   "source": [
    "---"
   ]
  },
  {
   "cell_type": "markdown",
   "metadata": {},
   "source": [
    "Getting a chunk sequentially from the 1st section"
   ]
  },
  {
   "cell_type": "code",
   "execution_count": 15,
   "metadata": {},
   "outputs": [
    {
     "name": "stdout",
     "output_type": "stream",
     "text": [
      "this is my seventeenth straight day without sleep . i ' m not talking about insomnia . i know what insomnia is . i had something like it in college -\n"
     ]
    }
   ],
   "source": [
    "print(c.get_chunk(chunk_mode='sequential', section=0, output_mode='string'))"
   ]
  },
  {
   "cell_type": "markdown",
   "metadata": {},
   "source": [
    "Repeating the same operation will give the next sequential chunk (starting from the last element, because last_element=True by default)"
   ]
  },
  {
   "cell_type": "code",
   "execution_count": 16,
   "metadata": {},
   "outputs": [
    {
     "name": "stdout",
     "output_type": "stream",
     "text": [
      "- something like it because i ' m not sure that what i had then was exactly the same as what people refer to as insomnia . i suppose a doctor\n"
     ]
    }
   ],
   "source": [
    "print(c.get_chunk(chunk_mode='sequential', section=0, output_mode='string'))"
   ]
  },
  {
   "cell_type": "markdown",
   "metadata": {},
   "source": [
    "---"
   ]
  },
  {
   "cell_type": "markdown",
   "metadata": {},
   "source": [
    "Getting a chunk sequentially from the 2nd section"
   ]
  },
  {
   "cell_type": "code",
   "execution_count": 17,
   "metadata": {},
   "outputs": [
    {
     "name": "stdout",
     "output_type": "stream",
     "text": [
      "of a scene in the UNK of UNK of seven turned faces , and later a UNK of a top - UNK with a white ball on it that UNK to\n"
     ]
    }
   ],
   "source": [
    "print(c.get_chunk(chunk_mode='sequential', section=1, output_mode='string'))"
   ]
  },
  {
   "cell_type": "markdown",
   "metadata": {},
   "source": [
    "UNKs appear because the dictionary is built on the first section by default"
   ]
  },
  {
   "cell_type": "code",
   "execution_count": null,
   "metadata": {},
   "outputs": [],
   "source": []
  },
  {
   "cell_type": "markdown",
   "metadata": {},
   "source": [
    "### Corpy object with 3 sections (item level) and dictionary built on all the sections"
   ]
  },
  {
   "cell_type": "code",
   "execution_count": 18,
   "metadata": {},
   "outputs": [],
   "source": [
    "c = Corpy(books, text_sections=[60,30,10], threshold_section='all') #text_sections_level='item' by default"
   ]
  },
  {
   "cell_type": "markdown",
   "metadata": {},
   "source": [
    "---"
   ]
  },
  {
   "cell_type": "markdown",
   "metadata": {},
   "source": [
    "Getting a chunk sequentially from the 2nd section"
   ]
  },
  {
   "cell_type": "code",
   "execution_count": 19,
   "metadata": {},
   "outputs": [
    {
     "name": "stdout",
     "output_type": "stream",
     "text": [
      "of a scene in the grays of dawn of seven turned faces , and later a stump of a top - mast with a white ball on it that slashed to\n"
     ]
    }
   ],
   "source": [
    "print(c.get_chunk(chunk_mode='sequential', section=1, output_mode='string'))"
   ]
  },
  {
   "cell_type": "markdown",
   "metadata": {},
   "source": [
    "UNKs don't appear anymore because the dictionary is built on all of the sections"
   ]
  },
  {
   "cell_type": "code",
   "execution_count": null,
   "metadata": {},
   "outputs": [],
   "source": []
  },
  {
   "cell_type": "markdown",
   "metadata": {},
   "source": [
    "### Corpy object with 3 sections (item level), dictionary built on all the sections and threshold=1000 (only the first 100 more frequent items are kept)"
   ]
  },
  {
   "cell_type": "code",
   "execution_count": 20,
   "metadata": {},
   "outputs": [],
   "source": [
    "c = Corpy(books, text_sections=[60,30,10], threshold=1000, threshold_section='all') #text_sections_level='item' by default"
   ]
  },
  {
   "cell_type": "markdown",
   "metadata": {},
   "source": [
    "---"
   ]
  },
  {
   "cell_type": "markdown",
   "metadata": {},
   "source": [
    "Getting a chunk sequentially from the 2nd section"
   ]
  },
  {
   "cell_type": "code",
   "execution_count": 21,
   "metadata": {},
   "outputs": [
    {
     "name": "stdout",
     "output_type": "stream",
     "text": [
      "of a scene in the UNK of UNK of seven turned faces , and later a UNK of a top - UNK with a white UNK on it that UNK to\n"
     ]
    }
   ],
   "source": [
    "print(c.get_chunk(chunk_mode='sequential', section=1, output_mode='string'))"
   ]
  },
  {
   "cell_type": "markdown",
   "metadata": {},
   "source": [
    "UNKs appear again because the dictionary has been built only with the first 1000 more frequent items"
   ]
  },
  {
   "cell_type": "code",
   "execution_count": null,
   "metadata": {},
   "outputs": [],
   "source": []
  },
  {
   "cell_type": "markdown",
   "metadata": {},
   "source": [
    "### For Machine Learning purpose:"
   ]
  },
  {
   "cell_type": "markdown",
   "metadata": {},
   "source": [
    "By keeping the last_element=True, the input and the target for a ML system can be built as following:"
   ]
  },
  {
   "cell_type": "code",
   "execution_count": 22,
   "metadata": {},
   "outputs": [
    {
     "name": "stdout",
     "output_type": "stream",
     "text": [
      "[7, 5, 491, 12, 1, 1000, 7, 1000, 7, 380, 221, 608, 2, 4, 403, 5, 1000, 7, 5, 284, 16, 1000, 24, 5, 189, 1000, 23, 9, 14, 1000, 6]\n"
     ]
    }
   ],
   "source": [
    "c.reset_counter()\n",
    "code = c.get_chunk(chunk_mode='sequential', section=1, output_mode='code')\n",
    "print(code)"
   ]
  },
  {
   "cell_type": "markdown",
   "metadata": {},
   "source": [
    "The code length is 30+1:"
   ]
  },
  {
   "cell_type": "code",
   "execution_count": 23,
   "metadata": {},
   "outputs": [
    {
     "name": "stdout",
     "output_type": "stream",
     "text": [
      "31\n"
     ]
    }
   ],
   "source": [
    "print(len(code))"
   ]
  },
  {
   "cell_type": "markdown",
   "metadata": {},
   "source": [
    "Then, input can be given by the first 30 items and target by the last 30 items:"
   ]
  },
  {
   "cell_type": "code",
   "execution_count": 24,
   "metadata": {},
   "outputs": [],
   "source": [
    "inp = code[:-1]\n",
    "target = code[1:]"
   ]
  },
  {
   "cell_type": "code",
   "execution_count": 25,
   "metadata": {},
   "outputs": [
    {
     "name": "stdout",
     "output_type": "stream",
     "text": [
      "Input: [7, 5, 491, 12, 1, 1000, 7, 1000, 7, 380, 221, 608, 2, 4, 403, 5, 1000, 7, 5, 284, 16, 1000, 24, 5, 189, 1000, 23, 9, 14, 1000]\n",
      "Target: [5, 491, 12, 1, 1000, 7, 1000, 7, 380, 221, 608, 2, 4, 403, 5, 1000, 7, 5, 284, 16, 1000, 24, 5, 189, 1000, 23, 9, 14, 1000, 6]\n"
     ]
    }
   ],
   "source": [
    "print('Input:', inp)\n",
    "print('Target:', target)"
   ]
  },
  {
   "cell_type": "markdown",
   "metadata": {},
   "source": [
    "Note: code=1000 corresponds to the UNK item"
   ]
  },
  {
   "cell_type": "markdown",
   "metadata": {},
   "source": [
    "By using the methods code2items or code2strings it is possible to read the sequences:"
   ]
  },
  {
   "cell_type": "code",
   "execution_count": 26,
   "metadata": {},
   "outputs": [
    {
     "name": "stdout",
     "output_type": "stream",
     "text": [
      "['of', 'a', 'scene', 'in', 'the', None, 'of', None, 'of', 'seven', 'turned', 'faces', ',', 'and', 'later', 'a', None, 'of', 'a', 'top', '-', None, 'with', 'a', 'white', None, 'on', 'it', 'that', None]\n"
     ]
    }
   ],
   "source": [
    "print(c.code2items(inp))"
   ]
  },
  {
   "cell_type": "code",
   "execution_count": 27,
   "metadata": {},
   "outputs": [
    {
     "name": "stdout",
     "output_type": "stream",
     "text": [
      "of a scene in the UNK of UNK of seven turned faces , and later a UNK of a top - UNK with a white UNK on it that UNK\n"
     ]
    }
   ],
   "source": [
    "print(c.code2string(inp))"
   ]
  },
  {
   "cell_type": "code",
   "execution_count": null,
   "metadata": {},
   "outputs": [],
   "source": []
  }
 ],
 "metadata": {
  "kernelspec": {
   "display_name": "Python 3",
   "language": "python",
   "name": "python3"
  },
  "language_info": {
   "codemirror_mode": {
    "name": "ipython",
    "version": 3
   },
   "file_extension": ".py",
   "mimetype": "text/x-python",
   "name": "python",
   "nbconvert_exporter": "python",
   "pygments_lexer": "ipython3",
   "version": "3.8.5"
  }
 },
 "nbformat": 4,
 "nbformat_minor": 4
}
